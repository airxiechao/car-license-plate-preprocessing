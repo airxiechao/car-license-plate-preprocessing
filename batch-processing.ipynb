{
 "cells": [
  {
   "cell_type": "markdown",
   "metadata": {},
   "source": [
    "#### Semiautomatic roi selection\n",
    "\n",
    "* try to select only the region with the letters (with no borders)"
   ]
  },
  {
   "cell_type": "code",
   "execution_count": 17,
   "metadata": {
    "collapsed": true
   },
   "outputs": [
    {
     "name": "stdout",
     "output_type": "stream",
     "text": [
      "retrieving \"D:\\projects\\car-license-plate-recognition\\doc\\problem\\placas\\210503\\P1010006.jpg.pkz\"\n"
     ]
    },
    {
     "name": "stdout",
     "output_type": "stream",
     "text": [
      "saving \"D:\\projects\\car-license-plate-recognition\\doc\\problem\\placas\\210503\\P1010006.jpg.pkz\"\nretrieving \"D:\\projects\\car-license-plate-recognition\\doc\\problem\\placas\\210503\\P1010017.jpg.pkz\"\n"
     ]
    },
    {
     "name": "stdout",
     "output_type": "stream",
     "text": [
      "retrieving \"D:\\projects\\car-license-plate-recognition\\doc\\problem\\placas\\210503\\P1010030.jpg.pkz\"\n"
     ]
    }
   ],
   "source": [
    "import cv2\n",
    "import os\n",
    "from plate import batch, detect, roi\n",
    "\n",
    "directory = \"D:\\\\projects\\\\car-license-plate-recognition\\\\doc\\\\problem\\\\placas\\\\040603\\\\\"\n",
    "directory = \"D:\\\\projects\\\\car-license-plate-recognition\\\\doc\\\\problem\\\\placas\\\\070603\\\\\"\n",
    "directory = \"D:\\\\projects\\\\car-license-plate-recognition\\\\doc\\\\problem\\\\placas\\\\141002\\\\\"\n",
    "directory = \"D:\\\\projects\\\\car-license-plate-recognition\\\\doc\\\\problem\\\\placas\\\\170902\\\\\"\n",
    "directory = \"D:\\\\projects\\\\car-license-plate-recognition\\\\doc\\\\problem\\\\placas\\\\180902\\\\\"\n",
    "directory = \"D:\\\\projects\\\\car-license-plate-recognition\\\\doc\\\\problem\\\\placas\\\\210503\\\\\"\n",
    "# directory = \"D:\\\\projects\\\\car-license-plate-recognition\\\\doc\\\\problem\\\\placas\\\\280503\\\\\"\n",
    "\n",
    "files = batch.get_files(directory, \".jpg\")\n",
    "# files = [\"P6070094.jpg\", \"P6070005.jpg\"]\n",
    "# files = [\"Pa140004.jpg\", \"Pa140005.jpg\", \"Pa140009.jpg\", \"Pa140011.jpg\", \"Pa140012.jpg\", \"Pa140021.jpg\"]\n",
    "# files = [\"P9170043.jpg\"]\n",
    "# files = [\"P9190058.jpg\", \"P9180010.jpg\"]\n",
    "files = [\"P1010006.jpg\", \"P1010017.jpg\", \"P1010030.jpg\"]\n",
    "# files = [\"P5280096.jpg\", \"P5280109.jpg\", \"P5280038.jpg\", \"P5280045.jpg\", \"P5280073.jpg\", \"P5280095.jpg\", \"P5280025.jpg\"]\n",
    "\n",
    "for file in files:\n",
    "    img_path = directory + file\n",
    "    points_path = img_path + \".pkz\"\n",
    "\n",
    "    # plate coordinates\n",
    "    if not os.path.exists(points_path):\n",
    "        img = cv2.imread(img_path)\n",
    "        img = cv2.cvtColor(img, cv2.COLOR_BGR2RGB)\n",
    "        coordinates = detect.get_plates_coordinates(img_path)\n",
    "        if len(coordinates) > 0:\n",
    "            roi.save(points_path, coordinates[0], compress=False)\n",
    "\n",
    "    # edit points if found or select new points\n",
    "    image = cv2.imread(img_path)\n",
    "    clone = image.copy()\n",
    "    points = []\n",
    "    if os.path.exists(points_path):\n",
    "        points = roi.retrieve(points_path, decompress=False)\n",
    "\n",
    "    cv2.namedWindow(\"image\")\n",
    "    cv2.setMouseCallback(\"image\", batch.click_and_crop, (clone, image, points))\n",
    "    stop = False\n",
    "    while True:\n",
    "        cv2.imshow(\"image\", image)\n",
    "        key = cv2.waitKey(1) & 0xFF\n",
    "        if key == ord(\"c\") or key == ord(\"C\"):\n",
    "            points.clear()\n",
    "            image[:, :, :] = clone[:, :, :]\n",
    "        if key == ord(\"s\") or key == ord(\"S\"):\n",
    "            roi.save(points_path, points, compress=False)\n",
    "            break\n",
    "        if key == ord(\"q\") or key == ord(\"Q\"):\n",
    "            break\n",
    "        if key == 27:\n",
    "            stop = True\n",
    "            break\n",
    "\n",
    "    if stop:\n",
    "        break\n",
    "\n",
    "cv2.destroyAllWindows()"
   ]
  },
  {
   "cell_type": "markdown",
   "metadata": {},
   "source": [
    "#### Plate processing\n",
    "\n",
    "* delete border using ratio white pixels/black pixels\n",
    "* use an algorithm to erode, and combine regions that looks like license plate's characters"
   ]
  },
  {
   "cell_type": "code",
   "execution_count": 1,
   "metadata": {
    "collapsed": true
   },
   "outputs": [
    {
     "name": "stdout",
     "output_type": "stream",
     "text": [
      "retrieving \"D:\\projects\\car-license-plate-recognition\\doc\\problem\\placas\\040603\\P1010001.jpg.pkz\"\n\nD:\\projects\\car-license-plate-recognition\\doc\\problem\\placas\\040603\\P1010001.jpg.bin.jpg  points file for plate not found\n\nretrieving \"D:\\projects\\car-license-plate-recognition\\doc\\problem\\placas\\040603\\P1010002.jpg.pkz\"\n\nD:\\projects\\car-license-plate-recognition\\doc\\problem\\placas\\040603\\P1010002.jpg.bin.jpg  points file for plate not found\n\nretrieving \"D:\\projects\\car-license-plate-recognition\\doc\\problem\\placas\\040603\\P1010003.jpg.pkz\"\n"
     ]
    },
    {
     "name": "stdout",
     "output_type": "stream",
     "text": [
      "\nD:\\projects\\car-license-plate-recognition\\doc\\problem\\placas\\040603\\P1010003.jpg.bin.jpg  points file for plate not found\n\nretrieving \"D:\\projects\\car-license-plate-recognition\\doc\\problem\\placas\\040603\\P1010004.jpg.pkz\"\n\nD:\\projects\\car-license-plate-recognition\\doc\\problem\\placas\\040603\\P1010004.jpg.bin.jpg  points file for plate not found\n\nretrieving \"D:\\projects\\car-license-plate-recognition\\doc\\problem\\placas\\040603\\P1010005.jpg.pkz\"\n\nD:\\projects\\car-license-plate-recognition\\doc\\problem\\placas\\040603\\P1010005.jpg.bin.jpg  points file for plate not found\n\nretrieving \"D:\\projects\\car-license-plate-recognition\\doc\\problem\\placas\\040603\\P1010006.jpg.pkz\"\n\nD:\\projects\\car-license-plate-recognition\\doc\\problem\\placas\\040603\\P1010006.jpg.bin.jpg  points file for plate not found\n\nretrieving \"D:\\projects\\car-license-plate-recognition\\doc\\problem\\placas\\040603\\P6040007.jpg.pkz\"\n\nD:\\projects\\car-license-plate-recognition\\doc\\problem\\placas\\040603\\P6040007.jpg.bin.jpg  points file for plate not found\n\nretrieving \"D:\\projects\\car-license-plate-recognition\\doc\\problem\\placas\\040603\\P6040008.jpg.pkz\"\n\nD:\\projects\\car-license-plate-recognition\\doc\\problem\\placas\\040603\\P6040008.jpg.bin.jpg  points file for plate not found\n\nretrieving \"D:\\projects\\car-license-plate-recognition\\doc\\problem\\placas\\040603\\P6040009.jpg.pkz\"\n\nD:\\projects\\car-license-plate-recognition\\doc\\problem\\placas\\040603\\P6040009.jpg.bin.jpg  points file for plate not found\n\nretrieving \"D:\\projects\\car-license-plate-recognition\\doc\\problem\\placas\\040603\\P6040010.jpg.pkz\"\n\nD:\\projects\\car-license-plate-recognition\\doc\\problem\\placas\\040603\\P6040010.jpg.bin.jpg  points file for plate not found\n\nretrieving \"D:\\projects\\car-license-plate-recognition\\doc\\problem\\placas\\040603\\P6040011.jpg.pkz\"\n"
     ]
    },
    {
     "name": "stdout",
     "output_type": "stream",
     "text": [
      "\nD:\\projects\\car-license-plate-recognition\\doc\\problem\\placas\\040603\\P6040011.jpg.bin.jpg  points file for plate not found\n\nretrieving \"D:\\projects\\car-license-plate-recognition\\doc\\problem\\placas\\040603\\P6040012.jpg.pkz\"\n\nD:\\projects\\car-license-plate-recognition\\doc\\problem\\placas\\040603\\P6040012.jpg.bin.jpg  points file for plate not found\n\nretrieving \"D:\\projects\\car-license-plate-recognition\\doc\\problem\\placas\\040603\\P6040013.jpg.pkz\"\n\nD:\\projects\\car-license-plate-recognition\\doc\\problem\\placas\\040603\\P6040013.jpg.bin.jpg  points file for plate not found\n\nretrieving \"D:\\projects\\car-license-plate-recognition\\doc\\problem\\placas\\040603\\P6040014.jpg.pkz\"\n\nD:\\projects\\car-license-plate-recognition\\doc\\problem\\placas\\040603\\P6040014.jpg.bin.jpg  points file for plate not found\n\nretrieving \"D:\\projects\\car-license-plate-recognition\\doc\\problem\\placas\\040603\\P6040015.jpg.pkz\"\n\nD:\\projects\\car-license-plate-recognition\\doc\\problem\\placas\\040603\\P6040015.jpg.bin.jpg  points file for plate not found\n\nretrieving \"D:\\projects\\car-license-plate-recognition\\doc\\problem\\placas\\040603\\P6040016.jpg.pkz\"\n"
     ]
    },
    {
     "name": "stdout",
     "output_type": "stream",
     "text": [
      "\nD:\\projects\\car-license-plate-recognition\\doc\\problem\\placas\\040603\\P6040016.jpg.bin.jpg  points file for plate not found\n\nretrieving \"D:\\projects\\car-license-plate-recognition\\doc\\problem\\placas\\040603\\P6040017.jpg.pkz\"\n\nD:\\projects\\car-license-plate-recognition\\doc\\problem\\placas\\040603\\P6040017.jpg.bin.jpg  points file for plate not found\n\nretrieving \"D:\\projects\\car-license-plate-recognition\\doc\\problem\\placas\\040603\\P6040018.jpg.pkz\"\n\nD:\\projects\\car-license-plate-recognition\\doc\\problem\\placas\\040603\\P6040018.jpg.bin.jpg  points file for plate not found\n\nretrieving \"D:\\projects\\car-license-plate-recognition\\doc\\problem\\placas\\040603\\P6040019.jpg.pkz\"\n\nD:\\projects\\car-license-plate-recognition\\doc\\problem\\placas\\040603\\P6040019.jpg.bin.jpg  points file for plate not found\n\nretrieving \"D:\\projects\\car-license-plate-recognition\\doc\\problem\\placas\\040603\\P6040020.jpg.pkz\"\n\nD:\\projects\\car-license-plate-recognition\\doc\\problem\\placas\\040603\\P6040020.jpg.bin.jpg  points file for plate not found\n"
     ]
    },
    {
     "name": "stdout",
     "output_type": "stream",
     "text": [
      "\nretrieving \"D:\\projects\\car-license-plate-recognition\\doc\\problem\\placas\\040603\\P6040021.jpg.pkz\"\n\nD:\\projects\\car-license-plate-recognition\\doc\\problem\\placas\\040603\\P6040021.jpg.bin.jpg  points file for plate not found\n\nretrieving \"D:\\projects\\car-license-plate-recognition\\doc\\problem\\placas\\040603\\P6040022.jpg.pkz\"\n\nD:\\projects\\car-license-plate-recognition\\doc\\problem\\placas\\040603\\P6040022.jpg.bin.jpg  points file for plate not found\n\nretrieving \"D:\\projects\\car-license-plate-recognition\\doc\\problem\\placas\\040603\\P6040023.jpg.pkz\"\n\nD:\\projects\\car-license-plate-recognition\\doc\\problem\\placas\\040603\\P6040023.jpg.bin.jpg  points file for plate not found\n\nretrieving \"D:\\projects\\car-license-plate-recognition\\doc\\problem\\placas\\040603\\P6040024.jpg.pkz\"\n\nD:\\projects\\car-license-plate-recognition\\doc\\problem\\placas\\040603\\P6040024.jpg.bin.jpg  points file for plate not found\n\nretrieving \"D:\\projects\\car-license-plate-recognition\\doc\\problem\\placas\\040603\\P6040025.jpg.pkz\"\n\nD:\\projects\\car-license-plate-recognition\\doc\\problem\\placas\\040603\\P6040025.jpg.bin.jpg  points file for plate not found\n\nretrieving \"D:\\projects\\car-license-plate-recognition\\doc\\problem\\placas\\040603\\P6040026.jpg.pkz\"\n\nD:\\projects\\car-license-plate-recognition\\doc\\problem\\placas\\040603\\P6040026.jpg.bin.jpg  points file for plate not found\n"
     ]
    },
    {
     "name": "stdout",
     "output_type": "stream",
     "text": [
      "\nretrieving \"D:\\projects\\car-license-plate-recognition\\doc\\problem\\placas\\040603\\P6040027.jpg.pkz\"\n\nD:\\projects\\car-license-plate-recognition\\doc\\problem\\placas\\040603\\P6040027.jpg.bin.jpg  points file for plate not found\n\nretrieving \"D:\\projects\\car-license-plate-recognition\\doc\\problem\\placas\\040603\\P6040028.jpg.pkz\"\n\nD:\\projects\\car-license-plate-recognition\\doc\\problem\\placas\\040603\\P6040028.jpg.bin.jpg  points file for plate not found\n\nretrieving \"D:\\projects\\car-license-plate-recognition\\doc\\problem\\placas\\040603\\P6040029.jpg.pkz\"\n\nD:\\projects\\car-license-plate-recognition\\doc\\problem\\placas\\040603\\P6040029.jpg.bin.jpg  points file for plate not found\n\nretrieving \"D:\\projects\\car-license-plate-recognition\\doc\\problem\\placas\\040603\\P6040030.jpg.pkz\"\n\nD:\\projects\\car-license-plate-recognition\\doc\\problem\\placas\\040603\\P6040030.jpg.bin.jpg  points file for plate not found\n\nretrieving \"D:\\projects\\car-license-plate-recognition\\doc\\problem\\placas\\040603\\P6040031.jpg.pkz\"\n\nD:\\projects\\car-license-plate-recognition\\doc\\problem\\placas\\040603\\P6040031.jpg.bin.jpg  points file for plate not found\n\nretrieving \"D:\\projects\\car-license-plate-recognition\\doc\\problem\\placas\\040603\\P6040032.jpg.pkz\"\n"
     ]
    },
    {
     "name": "stdout",
     "output_type": "stream",
     "text": [
      "\nD:\\projects\\car-license-plate-recognition\\doc\\problem\\placas\\040603\\P6040032.jpg.bin.jpg  points file for plate not found\n\nretrieving \"D:\\projects\\car-license-plate-recognition\\doc\\problem\\placas\\040603\\P6040033.jpg.pkz\"\n\nD:\\projects\\car-license-plate-recognition\\doc\\problem\\placas\\040603\\P6040033.jpg.bin.jpg  points file for plate not found\n\nretrieving \"D:\\projects\\car-license-plate-recognition\\doc\\problem\\placas\\040603\\P6040034.jpg.pkz\"\n\nD:\\projects\\car-license-plate-recognition\\doc\\problem\\placas\\040603\\P6040034.jpg.bin.jpg  points file for plate not found\n\nretrieving \"D:\\projects\\car-license-plate-recognition\\doc\\problem\\placas\\040603\\P6040035.jpg.pkz\"\n\nD:\\projects\\car-license-plate-recognition\\doc\\problem\\placas\\040603\\P6040035.jpg.bin.jpg  points file for plate not found\n\nretrieving \"D:\\projects\\car-license-plate-recognition\\doc\\problem\\placas\\040603\\P6040036.jpg.pkz\"\n\nD:\\projects\\car-license-plate-recognition\\doc\\problem\\placas\\040603\\P6040036.jpg.bin.jpg  points file for plate not found\n\nretrieving \"D:\\projects\\car-license-plate-recognition\\doc\\problem\\placas\\040603\\P6040037.jpg.pkz\"\n"
     ]
    },
    {
     "name": "stdout",
     "output_type": "stream",
     "text": [
      "\nD:\\projects\\car-license-plate-recognition\\doc\\problem\\placas\\040603\\P6040037.jpg.bin.jpg  points file for plate not found\n\nretrieving \"D:\\projects\\car-license-plate-recognition\\doc\\problem\\placas\\040603\\P6040038.jpg.pkz\"\n\nD:\\projects\\car-license-plate-recognition\\doc\\problem\\placas\\040603\\P6040038.jpg.bin.jpg  points file for plate not found\n\nretrieving \"D:\\projects\\car-license-plate-recognition\\doc\\problem\\placas\\040603\\P6040039.jpg.pkz\"\n\nD:\\projects\\car-license-plate-recognition\\doc\\problem\\placas\\040603\\P6040039.jpg.bin.jpg  points file for plate not found\n\nretrieving \"D:\\projects\\car-license-plate-recognition\\doc\\problem\\placas\\040603\\P6040040.jpg.pkz\"\n"
     ]
    },
    {
     "name": "stdout",
     "output_type": "stream",
     "text": [
      "\nD:\\projects\\car-license-plate-recognition\\doc\\problem\\placas\\040603\\P6040040.jpg.bin.jpg  points file for plate not found\n\nretrieving \"D:\\projects\\car-license-plate-recognition\\doc\\problem\\placas\\040603\\P6040041.jpg.pkz\"\n\nD:\\projects\\car-license-plate-recognition\\doc\\problem\\placas\\040603\\P6040041.jpg.bin.jpg  points file for plate not found\n\nretrieving \"D:\\projects\\car-license-plate-recognition\\doc\\problem\\placas\\040603\\P6040042.jpg.pkz\"\n\nD:\\projects\\car-license-plate-recognition\\doc\\problem\\placas\\040603\\P6040042.jpg.bin.jpg  points file for plate not found\n\nretrieving \"D:\\projects\\car-license-plate-recognition\\doc\\problem\\placas\\040603\\P6040043.jpg.pkz\"\n\nD:\\projects\\car-license-plate-recognition\\doc\\problem\\placas\\040603\\P6040043.jpg.bin.jpg  points file for plate not found\n\nretrieving \"D:\\projects\\car-license-plate-recognition\\doc\\problem\\placas\\040603\\P6040044.jpg.pkz\"\n\nD:\\projects\\car-license-plate-recognition\\doc\\problem\\placas\\040603\\P6040044.jpg.bin.jpg  points file for plate not found\n\nretrieving \"D:\\projects\\car-license-plate-recognition\\doc\\problem\\placas\\040603\\P6040045.jpg.pkz\"\n\nD:\\projects\\car-license-plate-recognition\\doc\\problem\\placas\\040603\\P6040045.jpg.bin.jpg  points file for plate not found\n"
     ]
    },
    {
     "name": "stdout",
     "output_type": "stream",
     "text": [
      "\nretrieving \"D:\\projects\\car-license-plate-recognition\\doc\\problem\\placas\\040603\\P6040046.jpg.pkz\"\n\nD:\\projects\\car-license-plate-recognition\\doc\\problem\\placas\\040603\\P6040046.jpg.bin.jpg  points file for plate not found\n\nretrieving \"D:\\projects\\car-license-plate-recognition\\doc\\problem\\placas\\040603\\P6040047.jpg.pkz\"\n\nD:\\projects\\car-license-plate-recognition\\doc\\problem\\placas\\040603\\P6040047.jpg.bin.jpg  points file for plate not found\n\nretrieving \"D:\\projects\\car-license-plate-recognition\\doc\\problem\\placas\\040603\\P6040048.jpg.pkz\"\n\nD:\\projects\\car-license-plate-recognition\\doc\\problem\\placas\\040603\\P6040048.jpg.bin.jpg  points file for plate not found\n\nretrieving \"D:\\projects\\car-license-plate-recognition\\doc\\problem\\placas\\040603\\P6040049.jpg.pkz\"\n\nD:\\projects\\car-license-plate-recognition\\doc\\problem\\placas\\040603\\P6040049.jpg.bin.jpg  points file for plate not found\n\nretrieving \"D:\\projects\\car-license-plate-recognition\\doc\\problem\\placas\\040603\\P6040050.jpg.pkz\"\n"
     ]
    },
    {
     "name": "stdout",
     "output_type": "stream",
     "text": [
      "\nD:\\projects\\car-license-plate-recognition\\doc\\problem\\placas\\040603\\P6040050.jpg.bin.jpg  points file for plate not found\n\nretrieving \"D:\\projects\\car-license-plate-recognition\\doc\\problem\\placas\\040603\\P6040051.jpg.pkz\"\n\nD:\\projects\\car-license-plate-recognition\\doc\\problem\\placas\\040603\\P6040051.jpg.bin.jpg  points file for plate not found\n\nretrieving \"D:\\projects\\car-license-plate-recognition\\doc\\problem\\placas\\040603\\P6040052.jpg.pkz\"\n\nD:\\projects\\car-license-plate-recognition\\doc\\problem\\placas\\040603\\P6040052.jpg.bin.jpg  points file for plate not found\n\nretrieving \"D:\\projects\\car-license-plate-recognition\\doc\\problem\\placas\\040603\\P6040053.jpg.pkz\"\n\nD:\\projects\\car-license-plate-recognition\\doc\\problem\\placas\\040603\\P6040053.jpg.bin.jpg  points file for plate not found\n\nretrieving \"D:\\projects\\car-license-plate-recognition\\doc\\problem\\placas\\040603\\P6040054.jpg.pkz\"\n\nD:\\projects\\car-license-plate-recognition\\doc\\problem\\placas\\040603\\P6040054.jpg.bin.jpg  points file for plate not found\n\nretrieving \"D:\\projects\\car-license-plate-recognition\\doc\\problem\\placas\\040603\\P6040055.jpg.pkz\"\n\nD:\\projects\\car-license-plate-recognition\\doc\\problem\\placas\\040603\\P6040055.jpg.bin.jpg  points file for plate not found\n\nretrieving \"D:\\projects\\car-license-plate-recognition\\doc\\problem\\placas\\040603\\P6040056.jpg.pkz\"\n\nD:\\projects\\car-license-plate-recognition\\doc\\problem\\placas\\040603\\P6040056.jpg.bin.jpg  points file for plate not found\n\nretrieving \"D:\\projects\\car-license-plate-recognition\\doc\\problem\\placas\\040603\\P6040057.jpg.pkz\"\n\n"
     ]
    },
    {
     "name": "stdout",
     "output_type": "stream",
     "text": [
      "D:\\projects\\car-license-plate-recognition\\doc\\problem\\placas\\040603\\P6040057.jpg.bin.jpg  points file for plate not found\n\nretrieving \"D:\\projects\\car-license-plate-recognition\\doc\\problem\\placas\\040603\\P6040058.jpg.pkz\"\n\nD:\\projects\\car-license-plate-recognition\\doc\\problem\\placas\\040603\\P6040058.jpg.bin.jpg  points file for plate not found\n\nretrieving \"D:\\projects\\car-license-plate-recognition\\doc\\problem\\placas\\040603\\P6040059.jpg.pkz\"\n\nD:\\projects\\car-license-plate-recognition\\doc\\problem\\placas\\040603\\P6040059.jpg.bin.jpg  points file for plate not found\n\nretrieving \"D:\\projects\\car-license-plate-recognition\\doc\\problem\\placas\\040603\\P6040060.jpg.pkz\"\n\nD:\\projects\\car-license-plate-recognition\\doc\\problem\\placas\\040603\\P6040060.jpg.bin.jpg  points file for plate not found\n\nretrieving \"D:\\projects\\car-license-plate-recognition\\doc\\problem\\placas\\040603\\P6040061.jpg.pkz\"\n\nD:\\projects\\car-license-plate-recognition\\doc\\problem\\placas\\040603\\P6040061.jpg.bin.jpg  points file for plate not found\n\nretrieving \"D:\\projects\\car-license-plate-recognition\\doc\\problem\\placas\\040603\\P6040062.jpg.pkz\"\n"
     ]
    },
    {
     "name": "stdout",
     "output_type": "stream",
     "text": [
      "\nD:\\projects\\car-license-plate-recognition\\doc\\problem\\placas\\040603\\P6040062.jpg.bin.jpg  points file for plate not found\n\nretrieving \"D:\\projects\\car-license-plate-recognition\\doc\\problem\\placas\\040603\\P6040063.jpg.pkz\"\n\nD:\\projects\\car-license-plate-recognition\\doc\\problem\\placas\\040603\\P6040063.jpg.bin.jpg  points file for plate not found\n\nretrieving \"D:\\projects\\car-license-plate-recognition\\doc\\problem\\placas\\040603\\P6040064.jpg.pkz\"\n\nD:\\projects\\car-license-plate-recognition\\doc\\problem\\placas\\040603\\P6040064.jpg.bin.jpg  points file for plate not found\n\nretrieving \"D:\\projects\\car-license-plate-recognition\\doc\\problem\\placas\\040603\\P6040065.jpg.pkz\"\n\nD:\\projects\\car-license-plate-recognition\\doc\\problem\\placas\\040603\\P6040065.jpg.bin.jpg  points file for plate not found\n\nretrieving \"D:\\projects\\car-license-plate-recognition\\doc\\problem\\placas\\040603\\P6040066.jpg.pkz\"\n\nD:\\projects\\car-license-plate-recognition\\doc\\problem\\placas\\040603\\P6040066.jpg.bin.jpg  points file for plate not found\n\nretrieving \"D:\\projects\\car-license-plate-recognition\\doc\\problem\\placas\\040603\\P6040067.jpg.pkz\"\n\nD:\\projects\\car-license-plate-recognition\\doc\\problem\\placas\\040603\\P6040067.jpg.bin.jpg  points file for plate not found\n"
     ]
    },
    {
     "name": "stdout",
     "output_type": "stream",
     "text": [
      "\nretrieving \"D:\\projects\\car-license-plate-recognition\\doc\\problem\\placas\\040603\\P6040068.jpg.pkz\"\n\nD:\\projects\\car-license-plate-recognition\\doc\\problem\\placas\\040603\\P6040068.jpg.bin.jpg  points file for plate not found\n\nretrieving \"D:\\projects\\car-license-plate-recognition\\doc\\problem\\placas\\040603\\P6040069.jpg.pkz\"\n\nD:\\projects\\car-license-plate-recognition\\doc\\problem\\placas\\040603\\P6040069.jpg.bin.jpg  points file for plate not found\n\nretrieving \"D:\\projects\\car-license-plate-recognition\\doc\\problem\\placas\\040603\\P6040070.jpg.pkz\"\n\nD:\\projects\\car-license-plate-recognition\\doc\\problem\\placas\\040603\\P6040070.jpg.bin.jpg  points file for plate not found\n\nretrieving \"D:\\projects\\car-license-plate-recognition\\doc\\problem\\placas\\040603\\P6040071.jpg.pkz\"\n\nD:\\projects\\car-license-plate-recognition\\doc\\problem\\placas\\040603\\P6040071.jpg.bin.jpg  points file for plate not found\n\nretrieving \"D:\\projects\\car-license-plate-recognition\\doc\\problem\\placas\\040603\\P6040072.jpg.pkz\"\n"
     ]
    },
    {
     "name": "stdout",
     "output_type": "stream",
     "text": [
      "\nD:\\projects\\car-license-plate-recognition\\doc\\problem\\placas\\040603\\P6040072.jpg.bin.jpg  points file for plate not found\n\n"
     ]
    }
   ],
   "source": [
    "import cv2\n",
    "import os\n",
    "from plate import batch\n",
    "\n",
    "directory = \"D:\\\\projects\\\\car-license-plate-recognition\\\\doc\\\\problem\\\\placas\\\\040603\\\\\"\n",
    "# directory = \"D:\\\\projects\\\\car-license-plate-recognition\\\\doc\\\\problem\\\\placas\\\\070603\\\\\" \n",
    "# directory = \"D:\\\\projects\\\\car-license-plate-recognition\\\\doc\\\\problem\\\\placas\\\\141002\\\\\"\n",
    "# directory = \"D:\\\\projects\\\\car-license-plate-recognition\\\\doc\\\\problem\\\\placas\\\\170902\\\\\"\n",
    "# directory = \"D:\\\\projects\\\\car-license-plate-recognition\\\\doc\\\\problem\\\\placas\\\\180902\\\\\"\n",
    "# directory = \"D:\\\\projects\\\\car-license-plate-recognition\\\\doc\\\\problem\\\\placas\\\\210503\\\\\"\n",
    "# directory = \"D:\\\\projects\\\\car-license-plate-recognition\\\\doc\\\\problem\\\\placas\\\\280503\\\\\"\n",
    "\n",
    "files = batch.get_files(directory, \".jpg\")\n",
    "# files = [\"P6040011.jpg\"]\n",
    "\n",
    "for file in files:\n",
    "    img_path = directory + file\n",
    "    final = batch.process_plate(img_path, write_plate=False)\n",
    "    cv2.imwrite(img_path + \".bin.jpg\", final)\n",
    "    print()"
   ]
  },
  {
   "cell_type": "code",
   "execution_count": 1,
   "metadata": {},
   "outputs": [],
   "source": [
    ""
   ]
  }
 ],
 "metadata": {
  "anaconda-cloud": {},
  "kernelspec": {
   "display_name": "Python [conda root]",
   "language": "python",
   "name": "conda-root-py"
  },
  "language_info": {
   "codemirror_mode": {
    "name": "ipython",
    "version": 3.0
   },
   "file_extension": ".py",
   "mimetype": "text/x-python",
   "name": "python",
   "nbconvert_exporter": "python",
   "pygments_lexer": "ipython3",
   "version": "3.5.2"
  }
 },
 "nbformat": 4,
 "nbformat_minor": 0
}